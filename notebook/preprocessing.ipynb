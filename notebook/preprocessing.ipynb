{
 "metadata": {
  "language_info": {
   "codemirror_mode": {
    "name": "ipython",
    "version": 3
   },
   "file_extension": ".py",
   "mimetype": "text/x-python",
   "name": "python",
   "nbconvert_exporter": "python",
   "pygments_lexer": "ipython3",
   "version": "3.9.0-final"
  },
  "orig_nbformat": 2,
  "kernelspec": {
   "name": "python3",
   "display_name": "Python 3.9.0 64-bit",
   "metadata": {
    "interpreter": {
     "hash": "2118e54a42add74cc2f44b92a11e88737ae926a96672d0bdd55b40ce4ea0c430"
    }
   }
  }
 },
 "nbformat": 4,
 "nbformat_minor": 2,
 "cells": [
  {
   "cell_type": "code",
   "execution_count": 1,
   "metadata": {},
   "outputs": [],
   "source": [
    "import csv\n",
    "from pandas import DataFrame as pd_DataFrame\n",
    "\n",
    "\n",
    "class Preprocessing(object):\n",
    "    def __init__(self, df):\n",
    "        self.df_cp = df\n",
    "        self.del_column()\n",
    "        self.set_header(df)\n",
    "        self.index = 0\n",
    "        self.starting_year = 1995\n",
    "        self.final_year = 2020\n",
    "        del df\n",
    "    \n",
    "    \n",
    "    def del_column(self):\n",
    "        del self.df_cp['MM']\n",
    "        del self.df_cp['coleta']\n",
    "        return self.df_cp \n",
    "    \n",
    "    \n",
    "    def set_starting_year(self, year):\n",
    "        self.starting_year = year\n",
    "        \n",
    "    \n",
    "    def set_final_year(self, year):\n",
    "        self.final_year = year + 1\n",
    "    \n",
    "    \n",
    "    def set_header(self, df):\n",
    "        self.df = pd_DataFrame(df.iloc[[0]])\n",
    "    \n",
    "    \n",
    "    def query_year_and_label(self, year, label):\n",
    "        return self.df_cp[(self.df_cp['YYYY'] == year) & (self.df_cp['class'] == label)]\n",
    "    \n",
    "    \n",
    "    def list_to_df(self, df, label):\n",
    "        df = (df.mean())\n",
    "        swap = []\n",
    "        \n",
    "        for i in df:\n",
    "            swap.append(i)\n",
    "        swap.append(label)\n",
    "        \n",
    "        return swap\n",
    "    \n",
    "    \n",
    "    def df_2_csv(self, path):\n",
    "        self.df.to_csv(path, encoding='utf-8', index=False)  \n",
    "        \n",
    "    \n",
    "    def new_df(self, year, label):\n",
    "        season = self.query_year_and_label(year, label)\n",
    "        season = self.list_to_df(season, label)\n",
    "        \n",
    "        self.df.loc[self.index] = season\n",
    "        del season\n",
    "        self.index += 1\n",
    "        \n",
    "        return self.df\n",
    "        \n",
    "        \n",
    "    def export(self, label, path):\n",
    "        for i in range(self.starting_year, self.final_year):\n",
    "            for j in label:\n",
    "                self.new_df(i, j)    \n",
    "        self.df_2_csv(path)\n"
   ]
  },
  {
   "cell_type": "code",
   "execution_count": 2,
   "metadata": {},
   "outputs": [],
   "source": [
    "from pandas import read_csv as pd_read_csv"
   ]
  },
  {
   "cell_type": "code",
   "execution_count": 3,
   "metadata": {},
   "outputs": [],
   "source": [
    "PATH = '../database/source.csv'\n",
    "LABEL = ('V','O','I','P')\n",
    "STARTING_YEAR = 1995\n",
    "FINAL_YEAR = 2019"
   ]
  },
  {
   "cell_type": "code",
   "execution_count": 4,
   "metadata": {},
   "outputs": [],
   "source": [
    "df = pd_read_csv(PATH)\n",
    "rps = Preprocessing(df)\n",
    "del df"
   ]
  },
  {
   "cell_type": "code",
   "execution_count": 5,
   "metadata": {},
   "outputs": [],
   "source": [
    "rps.export(LABEL, '../database/preprocessing.csv')\n",
    "del rps"
   ]
  }
 ]
}